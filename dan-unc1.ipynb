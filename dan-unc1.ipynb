{
 "cells": [
  {
   "cell_type": "markdown",
   "metadata": {},
   "source": [
    "# Exercises to demonstrate understanding of Bayesian Statistics\n",
    "from tutorials by Allen Downey\n"
   ]
  },
  {
   "cell_type": "code",
   "execution_count": 1,
   "metadata": {},
   "outputs": [],
   "source": [
    "import numpy as np\n",
    "import pandas as pd\n",
    "import matplotlib.pyplot as plt\n",
    "import seaborn as sns"
   ]
  },
  {
   "cell_type": "markdown",
   "metadata": {},
   "source": [
    "## The cookie problem\n",
    "\n",
    "> Suppose you have two bowls of cookies.  Bowl 1 contains 30 vanilla and 10 chocolate cookies.  Bowl 2 contains 20 vanilla of each.\n",
    ">\n",
    "> You choose one of the bowls at random and, without looking into the bowl, choose one of the cookies at random.  It turns out to be a vanilla cookie.\n",
    ">\n",
    "> What is the chance that you chose Bowl 1?\n",
    "\n",
    "Assume that there was an equal chance of choosing either bowl and an equal chance of choosing any cookie in the bowl.\n",
    " "
   ]
  },
  {
   "cell_type": "markdown",
   "metadata": {},
   "source": [
    "### Solution\n",
    "From Bayes Theorem, we have\n",
    "$$p(H|D) = \\dfrac{p(D|H)p(H)}{p(D)}$$\n",
    "\n",
    "$H$ - hypothesis that cookie came from Bowl 1\n",
    "\n",
    "$D$ - cookie is vanilla\n",
    "\n",
    "\n"
   ]
  },
  {
   "cell_type": "markdown",
   "metadata": {},
   "source": [
    "$p(H)$- probability of the hypothesis **before** you see the data (also known as prior).\n",
    "Now, for all that we know, when we initially assign a probability to the jars we choose, we have them to be equally likely, i.e, 0.5 chance that the either one of the bowl is chosen. Subsequently, the prior probabilities become 1/2 and 1/2"
   ]
  },
  {
   "cell_type": "code",
   "execution_count": 20,
   "metadata": {},
   "outputs": [
    {
     "data": {
      "text/plain": [
       "Bowl 1    0.5\n",
       "Bowl 2    0.5\n",
       "dtype: float64"
      ]
     },
     "execution_count": 20,
     "metadata": {},
     "output_type": "execute_result"
    }
   ],
   "source": [
    "hypos = 'Bowl 1', 'Bowl 2'\n",
    "probs = 1/2, 1/2\n",
    "prior = pd.Series(probs, hypos)\n",
    "prior"
   ]
  },
  {
   "cell_type": "markdown",
   "metadata": {},
   "source": [
    "$p(D|H)$ - this is conditional likelihood, i.e for the particular hypothesis $H$(the cookie is from Bowl 1), what is the probability that it is a vanilla cookie? Another hypothesis could be that the cookie came from Bowl 2, and we can also calculate the likelihood of that cookie being vanilla."
   ]
  },
  {
   "cell_type": "code",
   "execution_count": 21,
   "metadata": {},
   "outputs": [
    {
     "data": {
      "text/plain": [
       "(0.75, 0.5)"
      ]
     },
     "execution_count": 21,
     "metadata": {},
     "output_type": "execute_result"
    }
   ],
   "source": [
    "likelihood = 30/40, 20/40\n",
    "likelihood"
   ]
  },
  {
   "cell_type": "markdown",
   "metadata": {},
   "source": [
    "The next step is to multiply the prior with its likelihood. What this product yields is the probability of each of the hypotheses being true, given the prior holds. "
   ]
  },
  {
   "cell_type": "code",
   "execution_count": 22,
   "metadata": {},
   "outputs": [
    {
     "data": {
      "text/plain": [
       "Bowl 1    0.375\n",
       "Bowl 2    0.250\n",
       "dtype: float64"
      ]
     },
     "execution_count": 22,
     "metadata": {},
     "output_type": "execute_result"
    }
   ],
   "source": [
    "unnorm = prior * likelihood\n",
    "unnorm"
   ]
  },
  {
   "cell_type": "markdown",
   "metadata": {},
   "source": [
    "Now an interesting thing to note is that, when the prior gets multiplied by the likelihood, the sum of the resulting probabilities, do not add upto one. This is because each of the given hypothesis has its own probability of occurence for the data. So what we do is the process of normalization. \n",
    "\n",
    "Now normalization consists of summing up these two probabilites and dividing each of them by this sum. \n",
    "$p(D)$ -  is the sum that we've been refering to and this is the total probability.\n",
    "expanding $p(D)$ in accordance with the law of total probability, we have\n",
    "\n",
    "$p(D) = p(D)* p(D|H) + p(D)* p(D|H')$\n",
    "(this is for the case which we have two hypotheses)\n"
   ]
  },
  {
   "cell_type": "code",
   "execution_count": 23,
   "metadata": {},
   "outputs": [
    {
     "data": {
      "text/plain": [
       "0.625"
      ]
     },
     "execution_count": 23,
     "metadata": {},
     "output_type": "execute_result"
    }
   ],
   "source": [
    "prob_data = unnorm.sum()\n",
    "prob_data"
   ]
  },
  {
   "cell_type": "markdown",
   "metadata": {},
   "source": [
    "Now we divide the unnormalized probabilities with its sum and to obtain the posterior.\n",
    "\n",
    "The resultants are two fractions that will add up to one for the two hypotheses.\n",
    "\n",
    "The resultant probability is called the posterior and $p(H|D)$- probability of the hypothesis **after** you see the data(also known as the posterior)"
   ]
  },
  {
   "cell_type": "code",
   "execution_count": 24,
   "metadata": {},
   "outputs": [
    {
     "data": {
      "text/plain": [
       "Bowl 1    0.6\n",
       "Bowl 2    0.4\n",
       "dtype: float64"
      ]
     },
     "execution_count": 24,
     "metadata": {},
     "output_type": "execute_result"
    }
   ],
   "source": [
    "posterior = unnorm / prob_data\n",
    "posterior"
   ]
  },
  {
   "cell_type": "markdown",
   "metadata": {},
   "source": [
    "The next thing that we do is put the cookie back, (to make the likelihoods remain the same) and draw a cookie from the same bowl. The drawn cookie appears to a chocolate one. Now what would be the probability that this cookie too was from the first bowl itself?\n",
    "\n",
    "Now on taking the priors for the second update. The prior in this situation is the outcome of the experiment that we have done earlier, i.e. probability that the first bowl was picked. So the posterior of the first iteration is the prior of the second. \n",
    "\n",
    "This is a very important aspect of Bayesian inference. The beliefs that we have are updated with each new experience in the world. In Bayesian inference, after updating the prior to the posterior, we can take more data and update again! For the second update, the posterior from the first data becomes the prior for the second data."
   ]
  },
  {
   "cell_type": "code",
   "execution_count": 25,
   "metadata": {},
   "outputs": [
    {
     "data": {
      "text/plain": [
       "Bowl 1    0.6\n",
       "Bowl 2    0.4\n",
       "dtype: float64"
      ]
     },
     "execution_count": 25,
     "metadata": {},
     "output_type": "execute_result"
    }
   ],
   "source": [
    "prior2 = posterior\n",
    "prior2"
   ]
  },
  {
   "cell_type": "markdown",
   "metadata": {},
   "source": [
    "The next thing we that we need to do is to calculate the likelihood of the data given the hypotheses. Here the data $D$ is the cookie being vanilla.\n"
   ]
  },
  {
   "cell_type": "code",
   "execution_count": 26,
   "metadata": {},
   "outputs": [],
   "source": [
    "likelihood2 = 10/40, 20/40"
   ]
  },
  {
   "cell_type": "markdown",
   "metadata": {},
   "source": [
    "The next steps are as follows. We multiply the priors with the likelihoods and then normalize them to obtain the probability of choosing the second cookie from the Bowl 1."
   ]
  },
  {
   "cell_type": "code",
   "execution_count": 27,
   "metadata": {},
   "outputs": [
    {
     "data": {
      "text/plain": [
       "Bowl 1    0.15\n",
       "Bowl 2    0.20\n",
       "dtype: float64"
      ]
     },
     "execution_count": 27,
     "metadata": {},
     "output_type": "execute_result"
    }
   ],
   "source": [
    "unnorm2 = prior2*likelihood2\n",
    "unnorm2"
   ]
  },
  {
   "cell_type": "code",
   "execution_count": 28,
   "metadata": {},
   "outputs": [
    {
     "data": {
      "text/plain": [
       "0.35"
      ]
     },
     "execution_count": 28,
     "metadata": {},
     "output_type": "execute_result"
    }
   ],
   "source": [
    "prob_data2 = unnorm2.sum()\n",
    "prob_data2"
   ]
  },
  {
   "cell_type": "code",
   "execution_count": 29,
   "metadata": {},
   "outputs": [
    {
     "data": {
      "text/plain": [
       "Bowl 1    0.428571\n",
       "Bowl 2    0.571429\n",
       "dtype: float64"
      ]
     },
     "execution_count": 29,
     "metadata": {},
     "output_type": "execute_result"
    }
   ],
   "source": [
    "posterior2 = unnorm2 / prob_data2\n",
    "posterior2"
   ]
  },
  {
   "cell_type": "markdown",
   "metadata": {},
   "source": [
    "Now let us change a bit about the condition of replacement. Suppose the cookie taken from the first iteration is not replaced. The prior of the second update is still the same, but the likelihood changes. For simplicity lets take Bowl 1 with 4 vanilla cookies and 2 chocolate and Bowl 2 has 2 of them each. Lets conduct the experiment once again."
   ]
  },
  {
   "cell_type": "code",
   "execution_count": 30,
   "metadata": {},
   "outputs": [
    {
     "data": {
      "text/plain": [
       "B1    0.5\n",
       "B2    0.5\n",
       "dtype: float64"
      ]
     },
     "execution_count": 30,
     "metadata": {},
     "output_type": "execute_result"
    }
   ],
   "source": [
    "c_hypos = 'B1', 'B2'\n",
    "c_probs = 1/2, 1/2\n",
    "c_prior = pd.Series(c_probs, c_hypos)\n",
    "c_prior"
   ]
  },
  {
   "cell_type": "code",
   "execution_count": 44,
   "metadata": {},
   "outputs": [],
   "source": [
    "#likelihood of vanilla cookies for the two bowls\n",
    "c_ll = 4/6, 2/4"
   ]
  },
  {
   "cell_type": "code",
   "execution_count": 45,
   "metadata": {},
   "outputs": [
    {
     "data": {
      "text/plain": [
       "B1    0.333333\n",
       "B2    0.250000\n",
       "dtype: float64"
      ]
     },
     "execution_count": 45,
     "metadata": {},
     "output_type": "execute_result"
    }
   ],
   "source": [
    "c_unnorm = c_prior*c_ll\n",
    "c_unnorm"
   ]
  },
  {
   "cell_type": "code",
   "execution_count": 46,
   "metadata": {},
   "outputs": [
    {
     "data": {
      "text/plain": [
       "0.5833333333333333"
      ]
     },
     "execution_count": 46,
     "metadata": {},
     "output_type": "execute_result"
    }
   ],
   "source": [
    "c_prob_data1 = c_unnorm.sum()\n",
    "c_prob_data1"
   ]
  },
  {
   "cell_type": "code",
   "execution_count": 47,
   "metadata": {},
   "outputs": [
    {
     "data": {
      "text/plain": [
       "B1    0.571429\n",
       "B2    0.428571\n",
       "dtype: float64"
      ]
     },
     "execution_count": 47,
     "metadata": {},
     "output_type": "execute_result"
    }
   ],
   "source": [
    "c_posterior= c_unnorm/c_prob_data1\n",
    "c_posterior"
   ]
  },
  {
   "cell_type": "markdown",
   "metadata": {},
   "source": [
    "Now the chosen cookie cookie isn't replaced. What is the probability of choosing a chocolate cookie from the same bowl?"
   ]
  },
  {
   "cell_type": "code",
   "execution_count": 48,
   "metadata": {},
   "outputs": [
    {
     "data": {
      "text/plain": [
       "B1    0.571429\n",
       "B2    0.428571\n",
       "dtype: float64"
      ]
     },
     "execution_count": 48,
     "metadata": {},
     "output_type": "execute_result"
    }
   ],
   "source": [
    "#the prior will be the same as the posterior of the first\n",
    "c_prior2 = c_posterior\n",
    "c_prior2"
   ]
  },
  {
   "cell_type": "code",
   "execution_count": 53,
   "metadata": {},
   "outputs": [],
   "source": [
    "\"\"\"the vanilla cookie from the first jar isn't replaced. \n",
    "Therefore, there will be 3 vanilla and 2 chocolate cookies left in bowl1 and the same as before for bowl2.\"\"\"\n",
    "c_ll2 = 2/5, 2/4"
   ]
  },
  {
   "cell_type": "code",
   "execution_count": 54,
   "metadata": {},
   "outputs": [
    {
     "data": {
      "text/plain": [
       "B1    0.228571\n",
       "B2    0.214286\n",
       "dtype: float64"
      ]
     },
     "execution_count": 54,
     "metadata": {},
     "output_type": "execute_result"
    }
   ],
   "source": [
    "c_unnorm2 = c_prior2*c_ll2\n",
    "c_unnorm2"
   ]
  },
  {
   "cell_type": "code",
   "execution_count": 55,
   "metadata": {},
   "outputs": [
    {
     "data": {
      "text/plain": [
       "0.44285714285714295"
      ]
     },
     "execution_count": 55,
     "metadata": {},
     "output_type": "execute_result"
    }
   ],
   "source": [
    "c_prob_data2 = c_unnorm2.sum()\n",
    "c_prob_data2"
   ]
  },
  {
   "cell_type": "code",
   "execution_count": 56,
   "metadata": {},
   "outputs": [
    {
     "data": {
      "text/plain": [
       "B1    0.516129\n",
       "B2    0.483871\n",
       "dtype: float64"
      ]
     },
     "execution_count": 56,
     "metadata": {},
     "output_type": "execute_result"
    }
   ],
   "source": [
    "c_posterior2= c_unnorm2/c_prob_data2\n",
    "c_posterior2"
   ]
  },
  {
   "cell_type": "markdown",
   "metadata": {},
   "source": [
    "Let us take it up a notch and use distributions to visualize this\n",
    "\n",
    "### 101 Bowls\n",
    "\n",
    "Suppose instead of 2 bowls there are 101 bowls:\n",
    "\n",
    "* Bowl 0 contains no vanilla cookies,\n",
    "\n",
    "* Bowl 1 contains 1% vanilla cookies,\n",
    "\n",
    "* Bowl 2 contains 2% vanilla cookies,\n",
    "\n",
    "and so on, up to\n",
    "\n",
    "* Bowl 99 contains 99% vanilla cookies, and\n",
    "\n",
    "* Bowl 100 contains all vanilla cookies.\n",
    "\n",
    "As in the previous problem, there are only two kinds of cookies, vanilla and chocolate.  So Bowl 0 is all chocolate cookies, Bowl 1 is 99% chocolate, and so on.\n",
    "\n",
    "Suppose we choose a bowl at random, choose a cookie at random, and it turns out to be vanilla.  What is the probability that the cookie came from Bowl $x$, for each value of $x$?\n",
    "\n",
    "To represent the prior, I'll use a Pandas `Series` with 101 equally spaced quantities from 0 to 1."
   ]
  },
  {
   "cell_type": "code",
   "execution_count": 66,
   "metadata": {},
   "outputs": [
    {
     "data": {
      "text/plain": [
       "0.00    0.009901\n",
       "0.01    0.009901\n",
       "0.02    0.009901\n",
       "0.03    0.009901\n",
       "0.04    0.009901\n",
       "dtype: float64"
      ]
     },
     "execution_count": 66,
     "metadata": {},
     "output_type": "execute_result"
    }
   ],
   "source": [
    "xs = np.linspace(0, 1, num=101)\n",
    "prob = 1/101\n",
    "\n",
    "prior = pd.Series(prob, xs)\n",
    "prior.head()"
   ]
  },
  {
   "cell_type": "code",
   "execution_count": 67,
   "metadata": {},
   "outputs": [
    {
     "data": {
      "image/png": "[encoded data removed]",
      "text/plain": [
       "<Figure size 432x288 with 1 Axes>"
      ]
     },
     "metadata": {
      "needs_background": "light"
     },
     "output_type": "display_data"
    }
   ],
   "source": [
    "prior.plot()\n",
    "\n",
    "plt.xlabel('Fraction of vanilla cookies')\n",
    "plt.ylabel('Probability')\n",
    "plt.title('Prior1');"
   ]
  },
  {
   "cell_type": "markdown",
   "metadata": {},
   "source": [
    "Now that we have a prior, we need to compute likelihoods."
   ]
  },
  {
   "cell_type": "code",
   "execution_count": 68,
   "metadata": {},
   "outputs": [],
   "source": [
    "likelihood_vanilla = xs\n",
    "likelihood_chocolate = 1 - xs\n",
    "unnorm = prior * likelihood_vanilla\n",
    "posterior = unnorm / unnorm.sum()"
   ]
  },
  {
   "cell_type": "code",
   "execution_count": 69,
   "metadata": {},
   "outputs": [
    {
     "data": {
      "image/png": "[encoded data removed]",
      "text/plain": [
       "<Figure size 432x288 with 1 Axes>"
      ]
     },
     "metadata": {
      "needs_background": "light"
     },
     "output_type": "display_data"
    }
   ],
   "source": [
    "posterior.plot()\n",
    "\n",
    "plt.xlabel('Fraction of vanilla cookies')\n",
    "plt.ylabel('Probability')\n",
    "plt.title('Posterior, one vanilla');"
   ]
  },
  {
   "cell_type": "markdown",
   "metadata": {},
   "source": [
    "Suppose we put the first cookie back, stir the bowl, draw from the same bowl again, and get a vanilla cookie again.\n",
    "\n",
    "What's are the posterior probabilities now?\n",
    "\n",
    "We can do another update, using the posterior from the first draw as the prior for the second draw."
   ]
  },
  {
   "cell_type": "code",
   "execution_count": 70,
   "metadata": {},
   "outputs": [
    {
     "data": {
      "image/png": "[encoded data removed]",
      "text/plain": [
       "<Figure size 432x288 with 1 Axes>"
      ]
     },
     "metadata": {
      "needs_background": "light"
     },
     "output_type": "display_data"
    }
   ],
   "source": [
    "prior2 = posterior\n",
    "unnorm2 = prior2 * likelihood_vanilla\n",
    "posterior2 = unnorm2 / unnorm2.sum()\n",
    "posterior2.plot()\n",
    "\n",
    "plt.xlabel('Fraction of vanilla cookies')\n",
    "plt.ylabel('Probability')\n",
    "plt.title('Posterior, two vanilla');"
   ]
  },
  {
   "cell_type": "markdown",
   "metadata": {},
   "source": [
    "## Dice Problem\n",
    "I have a box with,\n",
    "4 sided\n",
    "6 sided \n",
    "8 sided and \n",
    "12 sided die.\n",
    "Suppose a random die is selected and I get a 6 six. What is the probability that I rolled each die?\n"
   ]
  },
  {
   "cell_type": "code",
   "execution_count": 229,
   "metadata": {},
   "outputs": [],
   "source": [
    "class Distribution(pd.Series):\n",
    "    def __init__(self, *args, **kwargs):\n",
    "        \"\"\"Initialize a Pmf.\n",
    "        Note: this cleans up a weird Series behavior, which is\n",
    "        that Series() and Series([]) yield different results.\n",
    "        See: https://github.com/pandas-dev/pandas/issues/16737\n",
    "        \"\"\"\n",
    "        if args or ('index' in kwargs):\n",
    "            super().__init__(*args, **kwargs)\n",
    "        else:\n",
    "            \n",
    "            super().__init__([], **kwargs)\n",
    "\n",
    "    @property\n",
    "    def qs(self):\n",
    "        \"\"\"Get the quantities.\n",
    "        :return: NumPy array\n",
    "        \"\"\"\n",
    "        return self.index.values\n",
    "\n",
    "    @property\n",
    "    def ps(self):\n",
    "        \"\"\"Get the probabilities.\n",
    "        :return: NumPy array\n",
    "        \"\"\"\n",
    "        return self.values\n",
    "\n",
    "    def head(self, n=3):\n",
    "        \"\"\"Override Series.head to return a Distribution.\n",
    "        n: number of rows\n",
    "        returns: Distribution\n",
    "        \"\"\"\n",
    "        s = super().head(n)\n",
    "        return self.__class__(s)\n",
    "\n",
    "    def tail(self, n=3):\n",
    "        \"\"\"Override Series.tail to return a Distribution.\n",
    "        n: number of rows\n",
    "        returns: Distribution\n",
    "        \"\"\"\n",
    "        s = super().tail(n)\n",
    "        return self.__class__(s)\n",
    "\n",
    "    def transform(self, *args, **kwargs):\n",
    "        \"\"\"Override to transform the quantities, not the probabilities.\"\"\"\n",
    "        qs = self.index.to_series().transform(*args, **kwargs)\n",
    "        return self.__class__(self.ps, qs, copy=True)\n",
    "\n",
    "    def _repr_html_(self):\n",
    "        \"\"\"Returns an HTML representation of the series.\n",
    "        Mostly used for Jupyter notebooks.\n",
    "        \"\"\"\n",
    "        df = pd.DataFrame(dict(probs=self))\n",
    "        return df._repr_html_()\n",
    "\n",
    "    def __call__(self, qs):\n",
    "        \"\"\"Look up quantities.\n",
    "        qs: quantity or sequence of quantities\n",
    "        returns: value or array of values\n",
    "        \"\"\"\n",
    "        string_types = (str, bytes, bytearray)\n",
    "\n",
    "        # if qs is a sequence type, use reindex;\n",
    "        # otherwise use get\n",
    "        if hasattr(qs, '__iter__') and not isinstance(qs, string_types):\n",
    "            s = self.reindex(qs, fill_value=0)\n",
    "            return s.to_numpy()\n",
    "        else:\n",
    "            return self.get(qs, default=0)\n",
    "\n",
    "    def mean(self):\n",
    "        \"\"\"Expected value.\n",
    "        :return: float\n",
    "        \"\"\"\n",
    "        return self.make_pmf().mean()\n",
    "\n",
    "    def mode(self, **kwargs):\n",
    "        \"\"\"Most common value.\n",
    "        If multiple quantities have the maximum probability,\n",
    "        the first maximal quantity is returned.\n",
    "        :return: float\n",
    "        \"\"\"\n",
    "        return self.make_pmf().mode(**kwargs)\n",
    "\n",
    "    def var(self):\n",
    "        \"\"\"Variance.\n",
    "        :return: float\n",
    "        \"\"\"\n",
    "        return self.make_pmf().var()\n",
    "\n",
    "    def std(self):\n",
    "        \"\"\"Standard deviation.\n",
    "        :return: float\n",
    "        \"\"\"\n",
    "        return self.make_pmf().std()\n",
    "\n",
    "    def median(self):\n",
    "        \"\"\"Median (50th percentile).\n",
    "        There are several definitions of median;\n",
    "        the one implemented here is just the 50th percentile.\n",
    "        :return: float\n",
    "        \"\"\"\n",
    "        return self.make_cdf().median()\n",
    "\n",
    "    def quantile(self, ps, **kwargs):\n",
    "        \"\"\"Quantiles.\n",
    "        Computes the inverse CDF of ps, that is,\n",
    "        the values that correspond to the given probabilities.\n",
    "        :return: float\n",
    "        \"\"\"\n",
    "        return self.make_cdf().quantile(ps, **kwargs)\n",
    "\n",
    "    def credible_interval(self, p):\n",
    "        \"\"\"Credible interval containing the given probability.\n",
    "        p: float 0-1\n",
    "        :return: array of two quantities\n",
    "        \"\"\"\n",
    "        tail = (1 - p) / 2\n",
    "        ps = [tail, 1 - tail]\n",
    "        return self.quantile(ps)\n",
    "\n",
    "    def choice(self, *args, **kwargs):\n",
    "        \"\"\"Makes a random sample.\n",
    "        Uses the probabilities as weights unless `p` is provided.\n",
    "        args: same as np.random.choice\n",
    "        options: same as np.random.choice\n",
    "        :return: NumPy array\n",
    "        \"\"\"\n",
    "        pmf = self.make_pmf()\n",
    "        return pmf.choice(*args, **kwargs)\n",
    "\n",
    "    def sample(self, *args, **kwargs):\n",
    "        \"\"\"Samples with replacement using probabilities as weights.\n",
    "        n: number of values\n",
    "        :return: NumPy array\n",
    "        \"\"\"\n",
    "        cdf = self.make_cdf()\n",
    "        return cdf.sample(*args, **kwargs)\n",
    "\n",
    "    def add_dist(self, x):\n",
    "        \"\"\"Distribution of the sum of values drawn from self and x.\n",
    "        x: Distribution, scalar, or sequence\n",
    "        :return: new Distribution, same subtype as self\n",
    "        \"\"\"\n",
    "        pmf = self.make_pmf()\n",
    "        res = pmf.add_dist(x)\n",
    "        return self.make_same(res)\n",
    "\n",
    "    def sub_dist(self, x):\n",
    "        \"\"\"Distribution of the diff of values drawn from self and x.\n",
    "        x: Distribution, scalar, or sequence\n",
    "        :return: new Distribution, same subtype as self\n",
    "        \"\"\"\n",
    "        pmf = self.make_pmf()\n",
    "        res = pmf.sub_dist(x)\n",
    "        return self.make_same(res)\n",
    "\n",
    "    def mul_dist(self, x):\n",
    "        \"\"\"Distribution of the product of values drawn from self and x.\n",
    "        x: Distribution, scalar, or sequence\n",
    "        :return: new Distribution, same subtype as self\n",
    "        \"\"\"\n",
    "        pmf = self.make_pmf()\n",
    "        res = pmf.mul_dist(x)\n",
    "        return self.make_same(res)\n",
    "\n",
    "    def div_dist(self, x):\n",
    "        \"\"\"Distribution of the ratio of values drawn from self and x.\n",
    "        x: Distribution, scalar, or sequence\n",
    "        :return: new Distribution, same subtype as self\n",
    "        \"\"\"\n",
    "        pmf = self.make_pmf()\n",
    "        res = pmf.div_dist(x)\n",
    "        return self.make_same(res)\n",
    "\n",
    "    def pmf_outer(dist1, dist2, ufunc):\n",
    "        \"\"\"Computes the outer product of two PMFs.\n",
    "        dist1: Distribution object\n",
    "        dist2: Distribution object\n",
    "        ufunc: function to apply to the qs\n",
    "        :return: NumPy array\n",
    "        \"\"\"\n",
    "        #TODO: convert other types to Pmf\n",
    "        pmf1 = dist1\n",
    "        pmf2 = dist2\n",
    "\n",
    "        qs = ufunc.outer(pmf1.qs, pmf2.qs)\n",
    "        ps = np.multiply.outer(pmf1.ps, pmf2.ps)\n",
    "        return qs * ps\n",
    "\n",
    "    def gt_dist(self, x):\n",
    "        \"\"\"Probability that a value from self is greater than a value from x.\n",
    "        x: Distribution, scalar, or sequence\n",
    "        :return: float probability\n",
    "        \"\"\"\n",
    "        pmf = self.make_pmf()\n",
    "        return pmf.gt_dist(x)\n",
    "\n",
    "    def lt_dist(self, x):\n",
    "        \"\"\"Probability that a value from self is less than a value from x.\n",
    "        x: Distribution, scalar, or sequence\n",
    "        :return: float probability\n",
    "        \"\"\"\n",
    "        pmf = self.make_pmf()\n",
    "        return pmf.lt_dist(x)\n",
    "\n",
    "    def ge_dist(self, x):\n",
    "        \"\"\"Probability that a value from self is >= than a value from x.\n",
    "        x: Distribution, scalar, or sequence\n",
    "        :return: float probability\n",
    "        \"\"\"\n",
    "        pmf = self.make_pmf()\n",
    "        return pmf.ge_dist(x)\n",
    "\n",
    "    def le_dist(self, x):\n",
    "        \"\"\"Probability that a value from self is <= than a value from x.\n",
    "        x: Distribution, scalar, or sequence\n",
    "        :return: float probability\n",
    "        \"\"\"\n",
    "        pmf = self.make_pmf()\n",
    "        return pmf.le_dist(x)\n",
    "\n",
    "    def eq_dist(self, x):\n",
    "        \"\"\"Probability that a value from self equals a value from x.\n",
    "        x: Distribution, scalar, or sequence\n",
    "        :return: float probability\n",
    "        \"\"\"\n",
    "        pmf = self.make_pmf()\n",
    "        return pmf.eq_dist(x)\n",
    "\n",
    "    def ne_dist(self, x):\n",
    "        \"\"\"Probability that a value from self is <= than a value from x.\n",
    "        x: Distribution, scalar, or sequence\n",
    "        :return: float probability\n",
    "        \"\"\"\n",
    "        pmf = self.make_pmf()\n",
    "        return pmf.ne_dist(x)\n",
    "\n",
    "    def max_dist(self, n):\n",
    "        \"\"\"Distribution of the maximum of `n` values from this distribution.\n",
    "        n: integer\n",
    "        :return: Distribution, same type as self\n",
    "        \"\"\"\n",
    "        cdf = self.make_cdf().max_dist(n)\n",
    "        return self.make_same(cdf)\n",
    "\n",
    "    def min_dist(self, n):\n",
    "        \"\"\"Distribution of the minimum of `n` values from this distribution.\n",
    "        n: integer\n",
    "        :return: Distribution, same type as self\n",
    "        \"\"\"\n",
    "        cdf = self.make_cdf().min_dist(n)\n",
    "        return self.make_same(cdf)\n",
    "\n",
    "    prob_gt = gt_dist\n",
    "    prob_lt = lt_dist\n",
    "    prob_ge = ge_dist\n",
    "    prob_le = le_dist\n",
    "    prob_eq = eq_dist\n",
    "    prob_ne = ne_dist\n",
    "    \n",
    "class Pmf(Distribution):\n",
    "    \"\"\"Represents a probability Mass Function (PMF).\"\"\"\n",
    "    \n",
    "    def normalize(self):\n",
    "        \"\"\"Make the probabilities add up to 1 (modifies self).\n",
    "        :return: normalizing constant\n",
    "        \"\"\"\n",
    "        total = self.sum()\n",
    "        self /= total\n",
    "        return total\n",
    "    \n",
    "    def update(self, likelihood, data):\n",
    "        \"\"\"Bayesian update.\n",
    "        likelihood: function that takes (data, hypo) and returns\n",
    "                    likelihood of data under hypo, P(data|hypo)\n",
    "        data: in whatever format likelihood understands\n",
    "        :return: normalizing constant\n",
    "        \"\"\"\n",
    "        for hypo in self.qs:\n",
    "            self[hypo] *= likelihood(data, hypo)\n",
    "\n",
    "        return self.normalize()\n",
    "    \n",
    "    def sort(self, ascending=True, na_position='last'):\n",
    "        \"\"\"Sort the quantities in place.\n",
    "        ascending: boolean, ascending order, default True\n",
    "        na_position: where to put NaN, default last\n",
    "        \"\"\"\n",
    "        self.sort_index(ascending=ascending,\n",
    "                        inplace=True,\n",
    "                        na_position=na_position)\n",
    "    \n",
    "    @staticmethod\n",
    "    def from_seq(seq, normalize=True, sort=True, ascending=True,\n",
    "                 dropna=True, na_position='last', **options):\n",
    "        \"\"\"Make a PMF from a sequence of values.\n",
    "        seq: any kind of sequence\n",
    "        normalize: whether to normalize the Pmf, default True\n",
    "        sort: whether to sort the Pmf by values, default True\n",
    "        ascending: whether to sort in ascending order, default True\n",
    "        dropna: whether to drop NaN values, default True\n",
    "        na_position: If ‘first’ puts NaNs at the beginning,\n",
    "                        ‘last’ puts NaNs at the end.\n",
    "        options: passed to the pd.Series constructor\n",
    "        :return: Pmf object\n",
    "        \"\"\"\n",
    "        # compute the value counts\n",
    "        series = pd.Series(seq).value_counts(normalize=normalize,\n",
    "                                             sort=False,\n",
    "                                             dropna=dropna)\n",
    "        # make the result a Pmf\n",
    "        # (since we just made a fresh Series, there is no reason to copy it)\n",
    "        options['copy'] = False\n",
    "        pmf = Pmf(series, **options)\n",
    "\n",
    "        # sort in place, if desired\n",
    "        if sort:\n",
    "            pmf.sort(ascending=ascending, na_position=na_position)\n",
    "\n",
    "        \"\"\"In the current implementation, `from_seq` sorts numerical\n",
    "           quantities whether you want to or not.  If keeping\n",
    "           the order of the elements is important, let me know and\n",
    "           I'll rethink the implementation\n",
    "        \"\"\"\n",
    "\n",
    "        return pmf\n",
    "    "
   ]
  },
  {
   "cell_type": "markdown",
   "metadata": {},
   "source": [
    "### The dice problem\n",
    "\n",
    "Create a suite of hypotheses that represents dice with different numbers of sides."
   ]
  },
  {
   "cell_type": "code",
   "execution_count": 126,
   "metadata": {},
   "outputs": [
    {
     "data": {
      "text/html": [
       "<div>\n",
       "<style scoped>\n",
       "    .dataframe tbody tr th:only-of-type {\n",
       "        vertical-align: middle;\n",
       "    }\n",
       "\n",
       "    .dataframe tbody tr th {\n",
       "        vertical-align: top;\n",
       "    }\n",
       "\n",
       "    .dataframe thead th {\n",
       "        text-align: right;\n",
       "    }\n",
       "</style>\n",
       "<table border=\"1\" class=\"dataframe\">\n",
       "  <thead>\n",
       "    <tr style=\"text-align: right;\">\n",
       "      <th></th>\n",
       "      <th>probs</th>\n",
       "    </tr>\n",
       "  </thead>\n",
       "  <tbody>\n",
       "    <tr>\n",
       "      <th>4</th>\n",
       "      <td>0.25</td>\n",
       "    </tr>\n",
       "    <tr>\n",
       "      <th>6</th>\n",
       "      <td>0.25</td>\n",
       "    </tr>\n",
       "    <tr>\n",
       "      <th>8</th>\n",
       "      <td>0.25</td>\n",
       "    </tr>\n",
       "    <tr>\n",
       "      <th>12</th>\n",
       "      <td>0.25</td>\n",
       "    </tr>\n",
       "  </tbody>\n",
       "</table>\n",
       "</div>"
      ],
      "text/plain": [
       "4     0.25\n",
       "6     0.25\n",
       "8     0.25\n",
       "12    0.25\n",
       "dtype: float64"
      ]
     },
     "execution_count": 126,
     "metadata": {},
     "output_type": "execute_result"
    }
   ],
   "source": [
    "dice = Pmf.from_seq([4, 6, 8, 12])\n",
    "dice"
   ]
  },
  {
   "cell_type": "markdown",
   "metadata": {},
   "source": [
    "One way to solve this problem is the same as the previous method, by using manual calculation. Since a 6 is drawn, the likelihood for the first die would be zero whereas for the others it will 1/no.of their corresponding sides.\n"
   ]
  },
  {
   "cell_type": "code",
   "execution_count": 120,
   "metadata": {},
   "outputs": [
    {
     "data": {
      "text/html": [
       "<div>\n",
       "<style scoped>\n",
       "    .dataframe tbody tr th:only-of-type {\n",
       "        vertical-align: middle;\n",
       "    }\n",
       "\n",
       "    .dataframe tbody tr th {\n",
       "        vertical-align: top;\n",
       "    }\n",
       "\n",
       "    .dataframe thead th {\n",
       "        text-align: right;\n",
       "    }\n",
       "</style>\n",
       "<table border=\"1\" class=\"dataframe\">\n",
       "  <thead>\n",
       "    <tr style=\"text-align: right;\">\n",
       "      <th></th>\n",
       "      <th>probs</th>\n",
       "    </tr>\n",
       "  </thead>\n",
       "  <tbody>\n",
       "    <tr>\n",
       "      <th>4</th>\n",
       "      <td>0.000000</td>\n",
       "    </tr>\n",
       "    <tr>\n",
       "      <th>6</th>\n",
       "      <td>0.876197</td>\n",
       "    </tr>\n",
       "    <tr>\n",
       "      <th>8</th>\n",
       "      <td>0.116958</td>\n",
       "    </tr>\n",
       "    <tr>\n",
       "      <th>12</th>\n",
       "      <td>0.006845</td>\n",
       "    </tr>\n",
       "  </tbody>\n",
       "</table>\n",
       "</div>"
      ],
      "text/plain": [
       "4     0.000000\n",
       "6     0.876197\n",
       "8     0.116958\n",
       "12    0.006845\n",
       "dtype: float64"
      ]
     },
     "execution_count": 120,
     "metadata": {},
     "output_type": "execute_result"
    }
   ],
   "source": [
    "dice[4] *= 0\n",
    "dice[6] *= 1/6\n",
    "dice[8] *= 1/8\n",
    "dice[12] *= 1/12\n",
    "\n",
    "dice.normalize()\n",
    "dice"
   ]
  },
  {
   "cell_type": "markdown",
   "metadata": {},
   "source": [
    "Another way would be to utilize the functions present in the class and the likelihood functions that takes in the data and hypotheses and returns the probability of data(the outcome of rolling the die) given the hypothesis(number of sides on the die)."
   ]
  },
  {
   "cell_type": "code",
   "execution_count": 127,
   "metadata": {},
   "outputs": [],
   "source": [
    "def likelihood_dice(data, hypo):\n",
    "    \"\"\"Likelihood function for the dice problem.\n",
    "    \n",
    "    data: outcome of the die roll\n",
    "    hypo: number of sides\n",
    "    \n",
    "    returns: float probability\n",
    "    \"\"\"\n",
    "    \n",
    "    observed_outcome = data\n",
    "    number_of_sides = hypo\n",
    "    \n",
    "    if observed_outcome > number_of_sides:\n",
    "        return 0  #this takes of the situations where the outcome is greater than the number of faces of the die\n",
    "    else:\n",
    "        return 1 / number_of_sides"
   ]
  },
  {
   "cell_type": "code",
   "execution_count": 128,
   "metadata": {},
   "outputs": [
    {
     "data": {
      "text/html": [
       "<div>\n",
       "<style scoped>\n",
       "    .dataframe tbody tr th:only-of-type {\n",
       "        vertical-align: middle;\n",
       "    }\n",
       "\n",
       "    .dataframe tbody tr th {\n",
       "        vertical-align: top;\n",
       "    }\n",
       "\n",
       "    .dataframe thead th {\n",
       "        text-align: right;\n",
       "    }\n",
       "</style>\n",
       "<table border=\"1\" class=\"dataframe\">\n",
       "  <thead>\n",
       "    <tr style=\"text-align: right;\">\n",
       "      <th></th>\n",
       "      <th>probs</th>\n",
       "    </tr>\n",
       "  </thead>\n",
       "  <tbody>\n",
       "    <tr>\n",
       "      <th>4</th>\n",
       "      <td>0.000000</td>\n",
       "    </tr>\n",
       "    <tr>\n",
       "      <th>6</th>\n",
       "      <td>0.444444</td>\n",
       "    </tr>\n",
       "    <tr>\n",
       "      <th>8</th>\n",
       "      <td>0.333333</td>\n",
       "    </tr>\n",
       "    <tr>\n",
       "      <th>12</th>\n",
       "      <td>0.222222</td>\n",
       "    </tr>\n",
       "  </tbody>\n",
       "</table>\n",
       "</div>"
      ],
      "text/plain": [
       "4     0.000000\n",
       "6     0.444444\n",
       "8     0.333333\n",
       "12    0.222222\n",
       "dtype: float64"
      ]
     },
     "execution_count": 128,
     "metadata": {},
     "output_type": "execute_result"
    }
   ],
   "source": [
    "dice = Pmf.from_seq([4, 6, 8, 12])\n",
    "dice.update(likelihood_dice, 6)\n",
    "dice"
   ]
  },
  {
   "cell_type": "markdown",
   "metadata": {},
   "source": [
    "For any given sequence of numbers, the probability that a particular die was chosen can be shown"
   ]
  },
  {
   "cell_type": "code",
   "execution_count": 123,
   "metadata": {},
   "outputs": [],
   "source": [
    "for roll in [8, 7, 7, 5, 4]:\n",
    "    dice.update(likelihood_dice, roll)"
   ]
  },
  {
   "cell_type": "code",
   "execution_count": 124,
   "metadata": {},
   "outputs": [
    {
     "data": {
      "text/html": [
       "<div>\n",
       "<style scoped>\n",
       "    .dataframe tbody tr th:only-of-type {\n",
       "        vertical-align: middle;\n",
       "    }\n",
       "\n",
       "    .dataframe tbody tr th {\n",
       "        vertical-align: top;\n",
       "    }\n",
       "\n",
       "    .dataframe thead th {\n",
       "        text-align: right;\n",
       "    }\n",
       "</style>\n",
       "<table border=\"1\" class=\"dataframe\">\n",
       "  <thead>\n",
       "    <tr style=\"text-align: right;\">\n",
       "      <th></th>\n",
       "      <th>probs</th>\n",
       "    </tr>\n",
       "  </thead>\n",
       "  <tbody>\n",
       "    <tr>\n",
       "      <th>4</th>\n",
       "      <td>0.000000</td>\n",
       "    </tr>\n",
       "    <tr>\n",
       "      <th>6</th>\n",
       "      <td>0.000000</td>\n",
       "    </tr>\n",
       "    <tr>\n",
       "      <th>8</th>\n",
       "      <td>0.919294</td>\n",
       "    </tr>\n",
       "    <tr>\n",
       "      <th>12</th>\n",
       "      <td>0.080706</td>\n",
       "    </tr>\n",
       "  </tbody>\n",
       "</table>\n",
       "</div>"
      ],
      "text/plain": [
       "4     0.000000\n",
       "6     0.000000\n",
       "8     0.919294\n",
       "12    0.080706\n",
       "dtype: float64"
      ]
     },
     "execution_count": 124,
     "metadata": {},
     "output_type": "execute_result"
    }
   ],
   "source": [
    "dice"
   ]
  },
  {
   "cell_type": "markdown",
   "metadata": {},
   "source": [
    "### Euro problem\n",
    "*\"When spun on edge 250 times, a Belgian one-euro coin came up heads 140 times and tails 110. 'It looks very suspicious to me,' said Barry Blight, a statistics lecturer at the London School of Economics. 'If the coin were unbiased, the chance of getting a result as extreme as that would be less than 7%.' \"*\n",
    "\n",
    "From “The Guardian” quoted by MacKay, Information Theory, Inference, and Learning Algorithms.\n",
    "\n",
    "Exercise 1: Write a function called likelihood_euro that defines the likelihood function for the Euro problem. Note that hypo is in the range 0 to 100.\n",
    "\n",
    "Here's an outline to get you started."
   ]
  },
  {
   "cell_type": "code",
   "execution_count": 132,
   "metadata": {},
   "outputs": [],
   "source": [
    "def decorate_euro(title):\n",
    "    \"\"\"Labels the axes.\n",
    "    \n",
    "    title: string\n",
    "    \"\"\"\n",
    "    plt.xlabel('Probability of heads')\n",
    "    plt.ylabel('PMF')\n",
    "    plt.title(title)"
   ]
  },
  {
   "cell_type": "code",
   "execution_count": 193,
   "metadata": {},
   "outputs": [],
   "source": [
    "def likelihood_euro(data, hypo):\n",
    "    \"\"\" Likelihood function for the Euro problem.\n",
    "    \n",
    "    data: string, either 'H' or 'T'\n",
    "    hypo: prob of heads (0-100)\n",
    "    \n",
    "    returns: float probability\n",
    "    \"\"\"\n",
    "    x = hypo / 100\n",
    "    if data == 'H':\n",
    "        return x\n",
    "    else:\n",
    "        return 1-x"
   ]
  },
  {
   "cell_type": "code",
   "execution_count": 218,
   "metadata": {},
   "outputs": [
    {
     "data": {
      "image/png": "[encoded data removed]",
      "text/plain": [
       "<Figure size 432x288 with 1 Axes>"
      ]
     },
     "metadata": {
      "needs_background": "light"
     },
     "output_type": "display_data"
    }
   ],
   "source": [
    "euro = Pmf.from_seq(range(101))\n",
    "euro.plot()\n",
    "decorate_euro('Prior distribution')"
   ]
  },
  {
   "cell_type": "markdown",
   "metadata": {},
   "source": [
    "We spin the coin and find out that heads appear on the first toss"
   ]
  },
  {
   "cell_type": "code",
   "execution_count": 219,
   "metadata": {
    "scrolled": true
   },
   "outputs": [
    {
     "data": {
      "image/png": "[encoded data removed]",
      "text/plain": [
       "<Figure size 432x288 with 1 Axes>"
      ]
     },
     "metadata": {
      "needs_background": "light"
     },
     "output_type": "display_data"
    }
   ],
   "source": [
    "euro.update(likelihood_euro, 'H')\n",
    "euro.plot()\n",
    "decorate_euro('Posterior distribution, H')"
   ]
  },
  {
   "cell_type": "markdown",
   "metadata": {},
   "source": [
    "In the second spin too, the coin lands on heads"
   ]
  },
  {
   "cell_type": "code",
   "execution_count": 220,
   "metadata": {},
   "outputs": [
    {
     "data": {
      "image/png": "[encoded data removed]",
      "text/plain": [
       "<Figure size 432x288 with 1 Axes>"
      ]
     },
     "metadata": {
      "needs_background": "light"
     },
     "output_type": "display_data"
    }
   ],
   "source": [
    "euro.update(likelihood_euro, 'H')\n",
    "euro.plot()\n",
    "decorate_euro('Posterior distribution, HH')"
   ]
  },
  {
   "cell_type": "code",
   "execution_count": 221,
   "metadata": {},
   "outputs": [
    {
     "data": {
      "image/png": "[encoded data removed]",
      "text/plain": [
       "<Figure size 432x288 with 1 Axes>"
      ]
     },
     "metadata": {
      "needs_background": "light"
     },
     "output_type": "display_data"
    }
   ],
   "source": [
    "euro.update(likelihood_euro, 'T')\n",
    "euro.plot()\n",
    "decorate_euro('Posterior distribution, HHT')"
   ]
  },
  {
   "cell_type": "code",
   "execution_count": 225,
   "metadata": {},
   "outputs": [
    {
     "name": "stdout",
     "output_type": "stream",
     "text": [
      "0.00018433843384338435\n"
     ]
    }
   ],
   "source": [
    "print(euro[4])"
   ]
  },
  {
   "cell_type": "markdown",
   "metadata": {},
   "source": [
    "Here are the posterior probabilities after 140 heads and 110 tails."
   ]
  },
  {
   "cell_type": "code",
   "execution_count": 226,
   "metadata": {},
   "outputs": [
    {
     "data": {
      "image/png": "[encoded data removed]",
      "text/plain": [
       "<Figure size 432x288 with 1 Axes>"
      ]
     },
     "metadata": {
      "needs_background": "light"
     },
     "output_type": "display_data"
    }
   ],
   "source": [
    "euro = Pmf.from_seq(range(101))\n",
    "\n",
    "evidence = 'H' * 140 + 'T' * 110\n",
    "for outcome in evidence:\n",
    "    euro.update(likelihood_euro, outcome)\n",
    "    \n",
    "euro.plot()\n",
    "\n",
    "decorate_euro('Posterior distribution, 140 heads, 110 tails')"
   ]
  },
  {
   "cell_type": "markdown",
   "metadata": {},
   "source": [
    "Lets take a different prior and do the same updates"
   ]
  },
  {
   "cell_type": "code",
   "execution_count": 227,
   "metadata": {},
   "outputs": [],
   "source": [
    "def TrianglePrior():\n",
    "    \"\"\"Makes a Suite with a triangular prior.\n",
    "    \"\"\"\n",
    "    suite = Pmf(name='triangle')\n",
    "    for x in range(0, 51):\n",
    "        suite[x] = x\n",
    "    for x in range(51, 101):\n",
    "        suite[x] = 100-x \n",
    "    suite.normalize()\n",
    "    return suite"
   ]
  },
  {
   "cell_type": "code",
   "execution_count": 230,
   "metadata": {},
   "outputs": [
    {
     "name": "stderr",
     "output_type": "stream",
     "text": [
      "<ipython-input-229-33ce8bd7b832>:12: DeprecationWarning: The default dtype for empty Series will be 'object' instead of 'float64' in a future version. Specify a dtype explicitly to silence this warning.\n",
      "  super().__init__([], **kwargs)\n"
     ]
    },
    {
     "data": {
      "image/png": "[encoded data removed]",
      "text/plain": [
       "<Figure size 432x288 with 1 Axes>"
      ]
     },
     "metadata": {
      "needs_background": "light"
     },
     "output_type": "display_data"
    }
   ],
   "source": [
    "euro1 = Pmf.from_seq(range(101), name='uniform')\n",
    "euro1.plot()\n",
    "\n",
    "euro2 = TrianglePrior()\n",
    "euro2.plot()\n",
    "\n",
    "plt.legend()\n",
    "decorate_euro('Prior distributions')"
   ]
  },
  {
   "cell_type": "code",
   "execution_count": 234,
   "metadata": {},
   "outputs": [
    {
     "data": {
      "text/plain": [
       "<matplotlib.legend.Legend at 0x7f99ea935220>"
      ]
     },
     "execution_count": 234,
     "metadata": {},
     "output_type": "execute_result"
    },
    {
     "data": {
      "image/png": "[encoded data removed]",
      "text/plain": [
       "<Figure size 432x288 with 1 Axes>"
      ]
     },
     "metadata": {
      "needs_background": "light"
     },
     "output_type": "display_data"
    }
   ],
   "source": [
    "# Solution\n",
    "\n",
    "evidence = 'H' * 140 + 'T' * 110\n",
    "for outcome in evidence:\n",
    "    euro1.update(likelihood_euro, outcome)\n",
    "    euro2.update(likelihood_euro, outcome)\n",
    "\n",
    "euro1.plot()\n",
    "euro2.plot()\n",
    "\n",
    "decorate_euro('Posterior distributions')\n",
    "plt.legend()\n",
    "\n"
   ]
  },
  {
   "cell_type": "code",
   "execution_count": null,
   "metadata": {},
   "outputs": [],
   "source": []
  }
 ],
 "metadata": {
  "celltoolbar": "Raw Cell Format",
  "kernelspec": {
   "display_name": "Python 3",
   "language": "python",
   "name": "python3"
  },
  "language_info": {
   "codemirror_mode": {
    "name": "ipython",
    "version": 3
   },
   "file_extension": ".py",
   "mimetype": "text/x-python",
   "name": "python",
   "nbconvert_exporter": "python",
   "pygments_lexer": "ipython3",
   "version": "3.8.3"
  }
 },
 "nbformat": 4,
 "nbformat_minor": 4
}
